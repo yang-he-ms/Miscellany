{
 "cells": [
  {
   "cell_type": "markdown",
   "metadata": {},
   "source": [
    "# Outline\n",
    "\n",
    "* Iterable & Iterator\n",
    "* Generator\n",
    "* Simple Coroutines\n",
    "* Native Coroutines"
   ]
  },
  {
   "cell_type": "code",
   "execution_count": null,
   "metadata": {},
   "outputs": [],
   "source": [
    "import collections\n",
    "from inspect import getgeneratorstate"
   ]
  },
  {
   "cell_type": "markdown",
   "metadata": {},
   "source": [
    "# 1. Iterable & Iterators\n",
    "\n",
    "## 1.1 Iterable\n",
    "\n",
    "*Iterable* is anything you can loop over with a for loop.\n",
    "\n",
    "* If an object implements the `__iter__()` magic method, it means it can be used in a for loop.\n"
   ]
  },
  {
   "cell_type": "code",
   "execution_count": null,
   "metadata": {},
   "outputs": [],
   "source": [
    "# Basic objects in Python\n",
    "a_list = [1, 2, 3]\n",
    "a_tuple = (1, 2, 3)\n",
    "a_set = {1, 2, 3}\n",
    "a_str = \"abcd\"\n",
    "a_dict = {\"a\":1, \"b\":2, \"c\":3}\n",
    "\n",
    "obj_list = [a_list, a_tuple, a_set, a_str, a_dict]"
   ]
  },
  {
   "cell_type": "code",
   "execution_count": null,
   "metadata": {},
   "outputs": [],
   "source": [
    "# Check if they have __iter__ method\n",
    "for obj in obj_list:\n",
    "    print(f\"{type(obj)} has __iter__ method: {'__iter__' in dir(obj)}\")"
   ]
  },
  {
   "cell_type": "code",
   "execution_count": null,
   "metadata": {},
   "outputs": [],
   "source": [
    "# Check if they are iterable\n",
    "for obj in obj_list:\n",
    "    print(f\"{type(obj)} is iterable: {isinstance(obj, collections.Iterable)}\")"
   ]
  },
  {
   "cell_type": "markdown",
   "metadata": {},
   "source": [
    "However, not all objects that work with for loop is an Iterable."
   ]
  },
  {
   "cell_type": "code",
   "execution_count": null,
   "metadata": {},
   "outputs": [],
   "source": [
    "# Create a class that only has the __getitem__ method\n",
    "class FakeIterable:\n",
    "    def __getitem__(self,index):\n",
    "        if index < 5:\n",
    "            return index\n",
    "        else:\n",
    "            raise IndexError"
   ]
  },
  {
   "cell_type": "code",
   "execution_count": null,
   "metadata": {},
   "outputs": [],
   "source": [
    "# It can be iterated with for loop, but not an Iterable\n",
    "a = FakeIterable()\n",
    "for i in a:\n",
    "    print(i)\n",
    "print(isinstance(a, collections.Iterable))"
   ]
  },
  {
   "cell_type": "markdown",
   "metadata": {},
   "source": [
    "## 1.2 Iterator\n",
    "\n",
    "An *Iterator* is an object that only knows how to produce a series of values, one at a time, when it's being called by the already explored built-in `next()` function.\n",
    "\n",
    "An Iterator is not necessarily an Iterable. See the example below:\n"
   ]
  },
  {
   "cell_type": "code",
   "execution_count": null,
   "metadata": {},
   "outputs": [],
   "source": [
    "# Manually create an Iterator\n",
    "class SequenceIterator:\n",
    "    def __init__(self, start=0, step=1):\n",
    "        self.current = start\n",
    "        self.step = step\n",
    "\n",
    "    def __next__(self):\n",
    "        value = self.current\n",
    "        self.current += self.step\n",
    "        return value\n",
    "\n",
    "si = SequenceIterator(1, 2)"
   ]
  },
  {
   "cell_type": "code",
   "execution_count": null,
   "metadata": {},
   "outputs": [],
   "source": [
    "# Use the next() to get one item at a time\n",
    "next(si)"
   ]
  },
  {
   "cell_type": "code",
   "execution_count": null,
   "metadata": {},
   "outputs": [],
   "source": [
    "# It is not Iterable because it does not implement __iter__()\n",
    "for _ in si:\n",
    "    pass"
   ]
  },
  {
   "cell_type": "markdown",
   "metadata": {},
   "source": [
    "Iterables can be converted to Iterators by calling function `iter()`."
   ]
  },
  {
   "cell_type": "code",
   "execution_count": null,
   "metadata": {},
   "outputs": [],
   "source": [
    "# Check if they are iterator\n",
    "for obj in obj_list:\n",
    "    print(f\"{type(obj)} is iterator: {isinstance(obj, collections.Iterator)}\")"
   ]
  },
  {
   "cell_type": "code",
   "execution_count": null,
   "metadata": {},
   "outputs": [],
   "source": [
    "# Convert iterable to iterator\n",
    "a_iterator = iter(a_list)\n",
    "print(f\"a is a {type(a)}\")\n",
    "print(f\"a_iterator is a {type(a_iterator)}\")"
   ]
  },
  {
   "cell_type": "code",
   "execution_count": null,
   "metadata": {},
   "outputs": [],
   "source": [
    "# Go through the sequence until exhausted\n",
    "next(a_iterator)"
   ]
  },
  {
   "cell_type": "code",
   "execution_count": null,
   "metadata": {},
   "outputs": [],
   "source": [
    "# Handle the StopIteration exception\n",
    "next(a_iterator, \"The End\")"
   ]
  },
  {
   "cell_type": "markdown",
   "metadata": {},
   "source": [
    "## 1.3 Summary\n",
    "\n",
    "Iterable implements `__iter__`, while Iterator implements `__next__`.\n",
    "\n",
    "* An Iterable is not necessarily Iterator.\n",
    "* An Iterator is not necessarily Iterable.\n",
    "* Iterable can be conveniently converted to Iterator by calling `iter()`."
   ]
  },
  {
   "cell_type": "markdown",
   "metadata": {},
   "source": [
    "# 2. Generators\n",
    "\n",
    "A *Generator* is both an Iterable and an Iterator.\n",
    "\n",
    "Generators were introduced in Python with the idea of introducing iteration while improving the performance of the program.\n",
    "\n",
    "* save memory by producing each partidular element one at a time\n",
    "* lazy computations allow for infinit sequences\n",
    "\n",
    "## 2.1 Create Generators\n"
   ]
  },
  {
   "cell_type": "code",
   "execution_count": null,
   "metadata": {},
   "outputs": [],
   "source": [
    "# Create a generator with yield\n",
    "def mygen():\n",
    "    x = 0\n",
    "    while x < 10:\n",
    "        yield x**2\n",
    "        x += 1\n",
    "\n",
    "gen_1 = mygen()\n",
    "\n",
    "# Create a generator with generator expression\n",
    "gen_2 = (x**2 for x in range(10))"
   ]
  },
  {
   "cell_type": "code",
   "execution_count": null,
   "metadata": {},
   "outputs": [],
   "source": [
    "print(type(gen_1))\n",
    "print(type(gen_2))"
   ]
  },
  {
   "cell_type": "markdown",
   "metadata": {},
   "source": [
    "## 2.2 How do generators work\n",
    "\n",
    "Generators pause after yield statement, and can be re-activated by `next()`."
   ]
  },
  {
   "cell_type": "code",
   "execution_count": null,
   "metadata": {},
   "outputs": [],
   "source": [
    "def mygen():\n",
    "    x = 0\n",
    "    while x < 10:\n",
    "        print(f\"State before yield: {getgeneratorstate(gen)}\")\n",
    "        yield x**2\n",
    "        print(f\"State after yield: {getgeneratorstate(gen)}\")\n",
    "        x += 1"
   ]
  },
  {
   "cell_type": "code",
   "execution_count": null,
   "metadata": {},
   "outputs": [],
   "source": [
    "# Create a generator\n",
    "gen = mygen()\n",
    "print(getgeneratorstate(gen))"
   ]
  },
  {
   "cell_type": "code",
   "execution_count": null,
   "metadata": {},
   "outputs": [],
   "source": [
    "next(gen)"
   ]
  },
  {
   "cell_type": "code",
   "execution_count": null,
   "metadata": {},
   "outputs": [],
   "source": [
    "print(getgeneratorstate(gen))"
   ]
  },
  {
   "cell_type": "markdown",
   "metadata": {},
   "source": [
    "## 2.3 Memory saving with generators"
   ]
  },
  {
   "cell_type": "code",
   "execution_count": null,
   "metadata": {},
   "outputs": [],
   "source": [
    "%%writefile memory.py\n",
    "from memory_profiler import profile\n",
    "import random\n",
    "\n",
    "def int_list(n):\n",
    "    result = []\n",
    "    for i in range(n):\n",
    "        result.append(random.randint(0, n))\n",
    "    return result\n",
    "\n",
    "def int_generator(n):\n",
    "    for i in range(n):\n",
    "        yield random.randint(0, n)\n",
    " \n",
    "@profile\n",
    "def main():\n",
    "    n = 1000000\n",
    "    int_1 = int_generator(n)\n",
    "    int_2 = int_list(n)\n",
    "    int_3 = list(int_generator(n))\n",
    " \n",
    "if __name__ == '__main__':\n",
    "    main()"
   ]
  },
  {
   "cell_type": "markdown",
   "metadata": {},
   "source": [
    "## 2.4 Summary\n",
    "\n",
    "Borrow a nice picture that perfectly summarizes the relation among core concepts (forget about the example that an Iterator is not necessarily an Iterable).\n",
    "\n",
    "![alt text](https://th.bing.com/th/id/R95b4076d30e55da078045cdade28cea3?rik=6CiNzZWhpII7RA&riu=http%3a%2f%2fnvie.com%2fimg%2frelationships.png&ehk=%2be4cF8sjtgZYVwbqYK%2fRkRFwauNqCqM%2fy%2bmlaQxAw3Y%3d&risl=&pid=ImgRaw)"
   ]
  },
  {
   "cell_type": "markdown",
   "metadata": {},
   "source": [
    "# 3. Coroutines via Enhanced Generators\n",
    "\n",
    "Can simple generators ...\n",
    "\n",
    "* suspend? (YES)\n",
    "* send/receive data from the context? (NO)\n",
    "* handle exceptions from the caller's context? (NO)\n",
    "\n",
    "New methods to enhance the generators:\n",
    "\n",
    "* .close()\n",
    "* .throw(exception)\n",
    "* .send(value)\n",
    "\n",
    "Generators and coroutines are syntactically (and technically) the same, but semantically, they are different. \n",
    "\n",
    "* We create generators when we want to achieve efficient iteration. \n",
    "* We typically create coroutines with the goal of running non-blocking I/O operations.\n",
    "\n",
    "## 3.1 Enhanced generators\n",
    "\n"
   ]
  },
  {
   "cell_type": "code",
   "execution_count": null,
   "metadata": {},
   "outputs": [],
   "source": [
    "# A sequence with user-defined step\n",
    "def jumping_step():\n",
    "    index = 0\n",
    "    while True:\n",
    "        jump = yield index\n",
    "        if jump is None:\n",
    "            jump = 1\n",
    "        index += jump"
   ]
  },
  {
   "cell_type": "code",
   "execution_count": null,
   "metadata": {},
   "outputs": [],
   "source": [
    "itr = jumping_step()\n",
    "type(itr)"
   ]
  },
  {
   "cell_type": "code",
   "execution_count": null,
   "metadata": {},
   "outputs": [],
   "source": [
    "next(itr)"
   ]
  },
  {
   "cell_type": "code",
   "execution_count": null,
   "metadata": {},
   "outputs": [],
   "source": [
    "itr.send(56)"
   ]
  },
  {
   "cell_type": "markdown",
   "metadata": {},
   "source": [
    "## 3.2 Coroutines"
   ]
  },
  {
   "cell_type": "code",
   "execution_count": null,
   "metadata": {},
   "outputs": [],
   "source": [
    "def char_freq(frec_dict):\n",
    "\n",
    "    while True:\n",
    "        word = yield\n",
    "        word = word.lower()\n",
    "        for char in word:\n",
    "            if frec_dict.get(char) == None:\n",
    "                frec_dict[char] = 1\n",
    "            else:\n",
    "                frec_dict[char] += 1\n",
    "\n",
    "frec_dict = {}\n",
    "counter = char_freq(frec_dict)"
   ]
  },
  {
   "cell_type": "code",
   "execution_count": null,
   "metadata": {},
   "outputs": [],
   "source": [
    "next(counter)\n",
    "frec_dict"
   ]
  },
  {
   "cell_type": "code",
   "execution_count": null,
   "metadata": {},
   "outputs": [],
   "source": [
    "counter.send(\"iterable\")\n",
    "frec_dict"
   ]
  },
  {
   "cell_type": "markdown",
   "metadata": {},
   "source": [
    "# 4. Native Coroutines\n",
    "\n",
    "Coroutines with async and await syntax"
   ]
  },
  {
   "cell_type": "code",
   "execution_count": null,
   "metadata": {},
   "outputs": [],
   "source": [
    "import time,asyncio\n",
    "\n",
    "async def count():\n",
    "    print(\"count 1\")\n",
    "    await asyncio.sleep(1)\n",
    "    print(\"count 4\")\n",
    "\n",
    "async def count_further():\n",
    "    print(\"count 2\")\n",
    "    await asyncio.sleep(1)\n",
    "    print(\"count 5\")\n",
    "\n",
    "async def count_even_further():\n",
    "    print(\"count 3\")\n",
    "    await asyncio.sleep(1)\n",
    "    print(\"count 6\")\n",
    "\n",
    "async def main():\n",
    "    await asyncio.gather(count(), count_further(), count_even_further())\n",
    "\n",
    "s = time.perf_counter()\n",
    "await main()\n",
    "elapsed = time.perf_counter() - s\n",
    "print(f\"Script executed in {elapsed:0.2f} seconds.\")"
   ]
  },
  {
   "source": [
    "# 5. Links\n",
    "\n",
    "* [Demystifying Coroutines and Asynchronous Programming in Python](https://www.youtube.com/watch?v=7AoANOGIDuM)\n",
    "\n",
    "* [Python 101: iterators, generators, coroutines](https://www.integralist.co.uk/posts/python-generators/)\n",
    "\n",
    "* [Python Generators/Coroutines/Async IO with examples](https://medium.com/analytics-vidhya/python-generators-coroutines-async-io-with-examples-28771b586578)\n",
    "\n"
   ],
   "cell_type": "markdown",
   "metadata": {}
  },
  {
   "cell_type": "code",
   "execution_count": null,
   "metadata": {},
   "outputs": [],
   "source": []
  }
 ],
 "metadata": {
  "kernelspec": {
   "display_name": "Python 3",
   "language": "python",
   "name": "python3"
  },
  "language_info": {
   "codemirror_mode": {
    "name": "ipython",
    "version": 3
   },
   "file_extension": ".py",
   "mimetype": "text/x-python",
   "name": "python",
   "nbconvert_exporter": "python",
   "pygments_lexer": "ipython3",
   "version": "3.8.5-final"
  }
 },
 "nbformat": 4,
 "nbformat_minor": 2
}